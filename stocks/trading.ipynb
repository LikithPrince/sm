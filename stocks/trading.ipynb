{
 "cells": [
  {
   "cell_type": "code",
   "execution_count": 11,
   "metadata": {},
   "outputs": [],
   "source": [
    "import sqlite3\n",
    "from datetime import datetime\n",
    "import os\n",
    "\n",
    "# Specify the database file path\n",
    "db_file_path = './stock_register.db'\n",
    "\n",
    "# Ensure the directory exists\n",
    "os.makedirs(os.path.dirname(db_file_path), exist_ok=True)\n",
    "\n",
    "# Connect to SQLite database (creates a new database if it doesn't exist)\n",
    "connection_obj = sqlite3.connect(db_file_path)\n",
    "# connection_obj = sqlite3.connect('stocks/stock_register.db')\n",
    "\n",
    "cursor_obj = connection_obj.cursor()"
   ]
  },
  {
   "cell_type": "code",
   "execution_count": 5,
   "metadata": {},
   "outputs": [
    {
     "data": {
      "text/plain": [
       "<sqlite3.Cursor at 0x256bead27c0>"
      ]
     },
     "execution_count": 5,
     "metadata": {},
     "output_type": "execute_result"
    }
   ],
   "source": [
    "\n",
    "# Define the SQL query to create the table\n",
    "create_table_query = '''\n",
    "CREATE TABLE IF NOT EXISTS stock_register (\n",
    "    Date DATETIME,\n",
    "    StockName TEXT,\n",
    "    EntryPrice REAL,\n",
    "    StoplossPrice REAL,\n",
    "    AvailableCapital REAL,\n",
    "    RiskPercentage REAL,\n",
    "    Quantity INTEGER,\n",
    "    CapitalRequired REAL,\n",
    "    ProfitTarget10 REAL,\n",
    "    ProfitTarget20 REAL,\n",
    "    ProfitTarget30 REAL,\n",
    "    ProfitTarget40 REAL\n",
    ");\n",
    "'''\n",
    "\n",
    "# Execute the SQL query to create the table\n",
    "cursor_obj.execute(create_table_query)\n",
    "\n",
    "\n"
   ]
  },
  {
   "cell_type": "code",
   "execution_count": 2,
   "metadata": {},
   "outputs": [],
   "source": [
    "def get_position(entry_price, stoploss_price, capital, risk_perc = 3):\n",
    "   trade_risk = entry_price-stoploss_price\n",
    "   risk_amount = capital*risk_perc/100\n",
    "   position_size = risk_amount/trade_risk\n",
    "   return int(position_size)\n",
    "\n"
   ]
  },
  {
   "cell_type": "code",
   "execution_count": 3,
   "metadata": {},
   "outputs": [
    {
     "name": "stdout",
     "output_type": "stream",
     "text": [
      "No of quantity you can trade            : 8\n",
      "Capital required                        : 4672\n",
      "Profit target for 10%                   : 642.4\n",
      "Profit target for 20%                   : 700.8\n",
      "Profit target for 30%                   : 759.2\n",
      "Profit target for 40%                   : 817.6\n"
     ]
    }
   ],
   "source": [
    "entry_price = 584\n",
    "stoploss_price = 550\n",
    "capital = 10000\n",
    "stock_name = \"IONEXCHANG\"\n",
    "\n",
    "\n",
    "quantity = get_position(entry_price=entry_price, stoploss_price=stoploss_price, capital=capital)\n",
    "print(f\"No of quantity you can trade            : {quantity}\")\n",
    "print(f\"Capital required                        : {quantity*entry_price}\")\n",
    "print(f\"Profit target for 10%                   : {round(entry_price*1.1,2)}\") \n",
    "print(f\"Profit target for 20%                   : {round(entry_price*1.2,2)}\") \n",
    "print(f\"Profit target for 30%                   : {round(entry_price*1.3,2)}\") \n",
    "print(f\"Profit target for 40%                   : {round(entry_price*1.4,2)}\") "
   ]
  },
  {
   "cell_type": "code",
   "execution_count": 12,
   "metadata": {},
   "outputs": [
    {
     "name": "stdout",
     "output_type": "stream",
     "text": [
      "Database, table, and record created successfully.\n"
     ]
    }
   ],
   "source": [
    "# Get the current date and time in the desired format\n",
    "current_datetime = datetime.now().strftime(\"%Y-%m-%d %H:%M:%S\")\n",
    "\n",
    "# Insert a sample record with the current date and time\n",
    "sample_insert_query = f'''\n",
    "INSERT INTO stock_register (\n",
    "   Date,\n",
    "   StockName,\n",
    "   EntryPrice,\n",
    "   StoplossPrice,\n",
    "   AvailableCapital,\n",
    "   RiskPercentage,\n",
    "   Quantity,\n",
    "   CapitalRequired,\n",
    "   ProfitTarget10,\n",
    "   ProfitTarget20,\n",
    "   ProfitTarget30,\n",
    "   ProfitTarget40\n",
    ") VALUES (\n",
    "   \"{current_datetime}\",\n",
    "   \"{stock_name}\",\n",
    "   \"{entry_price}\",\n",
    "   \"{stoploss_price}\",\n",
    "   \"{capital}\",\n",
    "   \"{3}\",\n",
    "   {quantity},\n",
    "   {quantity*entry_price},\n",
    "   {round(entry_price*1.1,2)},\n",
    "   {round(entry_price*1.2,2)},\n",
    "   {round(entry_price*1.3,2)},\n",
    "   {round(entry_price*1.4,2)}\n",
    ");\n",
    "'''\n",
    "\n",
    "# Execute the SQL query to insert the sample record\n",
    "cursor_obj.execute(sample_insert_query)\n",
    "\n",
    "# Commit the changes and close the connection\n",
    "connection_obj.commit()\n",
    "connection_obj.close()\n",
    "\n",
    "print(\"Database, table, and record created successfully.\")"
   ]
  },
  {
   "cell_type": "code",
   "execution_count": 16,
   "metadata": {},
   "outputs": [
    {
     "name": "stdout",
     "output_type": "stream",
     "text": [
      "Deleted Successfully\n"
     ]
    }
   ],
   "source": [
    "import sqlite3\n",
    "\n",
    "def delete_stock_by_name(stock_name):\n",
    "   try:\n",
    "      # Connect to SQLite database\n",
    "      connection_obj = sqlite3.connect('./stock_register.db')\n",
    "\n",
    "      # Create a cursor object to execute SQL queries\n",
    "      cursor_obj = connection_obj.cursor()\n",
    "\n",
    "      # Define the SQL query to delete a row based on StockName\n",
    "      delete_query = '''\n",
    "      DELETE FROM stock_register\n",
    "      WHERE StockName = ?\n",
    "      '''\n",
    "\n",
    "      # Execute the SQL query with the stock_name parameter\n",
    "      cursor_obj.execute(delete_query, (stock_name,))\n",
    "\n",
    "      # Commit the changes and close the connection\n",
    "      connection_obj.commit()\n",
    "      connection_obj.close()\n",
    "      print(\"Deleted Successfully\")\n",
    "   except Exception as e:\n",
    "      print(e)\n",
    "# Example usage: Delete the row with StockName = 'ABC'\n",
    "delete_stock_by_name('ARABIAN')\n"
   ]
  }
 ],
 "metadata": {
  "kernelspec": {
   "display_name": "Python 3",
   "language": "python",
   "name": "python3"
  },
  "language_info": {
   "codemirror_mode": {
    "name": "ipython",
    "version": 3
   },
   "file_extension": ".py",
   "mimetype": "text/x-python",
   "name": "python",
   "nbconvert_exporter": "python",
   "pygments_lexer": "ipython3",
   "version": "3.10.11"
  }
 },
 "nbformat": 4,
 "nbformat_minor": 2
}
