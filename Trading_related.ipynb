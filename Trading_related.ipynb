{
  "nbformat": 4,
  "nbformat_minor": 0,
  "metadata": {
    "colab": {
      "provenance": [],
      "toc_visible": true,
      "mount_file_id": "1U6rttPEVSJdEqjrv48IClNsXtQ0ekBdU",
      "authorship_tag": "ABX9TyP/XobmiTQRjH/sgtwMW+mW",
      "include_colab_link": true
    },
    "kernelspec": {
      "name": "python3",
      "display_name": "Python 3"
    },
    "language_info": {
      "name": "python"
    }
  },
  "cells": [
    {
      "cell_type": "markdown",
      "metadata": {
        "id": "view-in-github",
        "colab_type": "text"
      },
      "source": [
        "<a href=\"https://colab.research.google.com/github/LikithPrince/sm/blob/main/Trading_related.ipynb\" target=\"_parent\"><img src=\"https://colab.research.google.com/assets/colab-badge.svg\" alt=\"Open In Colab\"/></a>"
      ]
    },
    {
      "cell_type": "code",
      "execution_count": null,
      "metadata": {
        "id": "_5d08ZQJSxsM"
      },
      "outputs": [],
      "source": [
        "def get_position(entry_price, stoploss_price, capital, risk_perc = 3):\n",
        "   trade_risk = entry_price-stoploss_price\n",
        "   risk_amount = capital*risk_perc/100\n",
        "   position_size = risk_amount/trade_risk\n",
        "   return int(position_size)"
      ]
    },
    {
      "cell_type": "code",
      "source": [
        "entry_price     = 2910\n",
        "stoploss_price  = 2842\n",
        "capital         = 10000\n",
        "\n",
        "quantity = get_position(entry_price=entry_price, stoploss_price=stoploss_price, capital=capital)\n",
        "\n",
        "print(f\"You can trade '{quantity}' quantity.\")\n",
        "print(f\"Capital required Rs.      : {entry_price*quantity}/-\")\n",
        "print(f\"Your target price for 10% : {round(entry_price*1.1,2)}\")\n",
        "print(f\"Your target price for 20% : {round(entry_price*1.2,2)}\")\n",
        "print(f\"Your target price for 30% : {round(entry_price*1.3,2)}\")"
      ],
      "metadata": {
        "id": "p-x6532JS1cT",
        "colab": {
          "base_uri": "https://localhost:8080/"
        },
        "outputId": "d745acb8-c6eb-4964-e33f-170e48a376ac"
      },
      "execution_count": null,
      "outputs": [
        {
          "output_type": "stream",
          "name": "stdout",
          "text": [
            "You can trade '4' quantity.\n",
            "Capital required Rs.      : 11640/-\n",
            "Your target price for 10% : 3201.0\n",
            "Your target price for 20% : 3492.0\n",
            "Your target price for 30% : 3783.0\n"
          ]
        }
      ]
    },
    {
      "cell_type": "code",
      "source": [],
      "metadata": {
        "id": "sD_eBfLDLvmA"
      },
      "execution_count": null,
      "outputs": []
    },
    {
      "cell_type": "code",
      "source": [],
      "metadata": {
        "id": "Y_zLNzMKsTRG"
      },
      "execution_count": null,
      "outputs": []
    },
    {
      "cell_type": "code",
      "source": [],
      "metadata": {
        "id": "IU4M3WIUsVXI"
      },
      "execution_count": null,
      "outputs": []
    }
  ]
}